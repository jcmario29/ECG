{
 "cells": [
  {
   "cell_type": "code",
   "execution_count": 1,
   "metadata": {},
   "outputs": [
    {
     "name": "stderr",
     "output_type": "stream",
     "text": [
      "2023-03-24 12:02:45.528118: I tensorflow/core/platform/cpu_feature_guard.cc:193] This TensorFlow binary is optimized with oneAPI Deep Neural Network Library (oneDNN) to use the following CPU instructions in performance-critical operations:  AVX2 FMA\n",
      "To enable them in other operations, rebuild TensorFlow with the appropriate compiler flags.\n"
     ]
    }
   ],
   "source": [
    "import numpy as np\n",
    "import pandas as pd\n",
    "import seaborn as sns\n",
    "import matplotlib.pyplot as plt\n",
    "from sklearn.metrics import classification_report\n",
    "from sklearn.model_selection import train_test_split\n",
    "from sklearn.metrics import f1_score\n",
    "from sklearn.metrics import confusion_matrix\n",
    "from keras.utils.np_utils import to_categorical\n",
    "from sklearn.utils import class_weight\n",
    "import warnings\n",
    "from sklearn.utils import resample\n",
    "from keras.layers import Dense, Convolution1D, MaxPool1D, Flatten, Dropout\n",
    "from keras.layers import Input\n",
    "from keras.models import Model\n",
    "from tensorflow.keras.layers import BatchNormalization\n",
    "import keras\n",
    "from keras.callbacks import EarlyStopping, ModelCheckpoint\n"
   ]
  },
  {
   "cell_type": "code",
   "execution_count": 2,
   "metadata": {},
   "outputs": [],
   "source": [
    "def network(X_train,y_train,X_test,y_test):\n",
    "    \n",
    "\n",
    "    im_shape=(X_train.shape[1],1)\n",
    "    inputs_cnn=Input(shape=(im_shape), name='inputs_cnn')\n",
    "    conv1_1=Convolution1D(64, (6), activation='relu', input_shape=im_shape)(inputs_cnn)\n",
    "    conv1_1=BatchNormalization()(conv1_1)\n",
    "    pool1=MaxPool1D(pool_size=(3), strides=(2), padding=\"same\")(conv1_1)\n",
    "    conv2_1=Convolution1D(64, (3), activation='relu', input_shape=im_shape)(pool1)\n",
    "    conv2_1=BatchNormalization()(conv2_1)\n",
    "    pool2=MaxPool1D(pool_size=(2), strides=(2), padding=\"same\")(conv2_1)\n",
    "    conv3_1=Convolution1D(64, (3), activation='relu', input_shape=im_shape)(pool2)\n",
    "    conv3_1=BatchNormalization()(conv3_1)\n",
    "    pool3=MaxPool1D(pool_size=(2), strides=(2), padding=\"same\")(conv3_1)\n",
    "    flatten=Flatten()(pool3)\n",
    "    dense_end1 = Dense(64, activation='relu')(flatten)\n",
    "    dense_end2 = Dense(32, activation='relu')(dense_end1)\n",
    "    main_output = Dense(5, activation='softmax', name='main_output')(dense_end2)\n",
    "    \n",
    "    \n",
    "    model = Model(inputs= inputs_cnn, outputs=main_output)\n",
    "    model.compile(optimizer='adam', loss='categorical_crossentropy',metrics = ['accuracy'])\n",
    "    \n",
    "    \n",
    "    callbacks = [EarlyStopping(monitor='val_loss', patience=8),\n",
    "             ModelCheckpoint(filepath='best_model.h5', monitor='val_loss', save_best_only=True)]\n",
    "\n",
    "    history=model.fit(X_train, y_train,epochs=40,callbacks=callbacks, batch_size=32,validation_data=(X_test,y_test))\n",
    "    model.load_weights('best_model.h5')\n",
    "    return(model,history)"
   ]
  },
  {
   "cell_type": "code",
   "execution_count": 3,
   "metadata": {},
   "outputs": [
    {
     "name": "stderr",
     "output_type": "stream",
     "text": [
      "2023-03-24 12:02:58.100595: I tensorflow/core/platform/cpu_feature_guard.cc:193] This TensorFlow binary is optimized with oneAPI Deep Neural Network Library (oneDNN) to use the following CPU instructions in performance-critical operations:  AVX2 FMA\n",
      "To enable them in other operations, rebuild TensorFlow with the appropriate compiler flags.\n"
     ]
    },
    {
     "name": "stdout",
     "output_type": "stream",
     "text": [
      "Epoch 1/50\n",
      "685/685 [==============================] - 30s 43ms/step - loss: 0.2843 - accuracy: 0.9214 - val_loss: 0.1667 - val_accuracy: 0.9529\n",
      "Epoch 2/50\n",
      "685/685 [==============================] - 31s 45ms/step - loss: 0.1634 - accuracy: 0.9549 - val_loss: 0.1275 - val_accuracy: 0.9629\n",
      "Epoch 3/50\n",
      "685/685 [==============================] - 31s 45ms/step - loss: 0.1378 - accuracy: 0.9621 - val_loss: 0.1167 - val_accuracy: 0.9653\n",
      "Epoch 4/50\n",
      "685/685 [==============================] - 31s 45ms/step - loss: 0.1244 - accuracy: 0.9655 - val_loss: 0.1025 - val_accuracy: 0.9698\n",
      "Epoch 5/50\n",
      "685/685 [==============================] - 31s 45ms/step - loss: 0.1107 - accuracy: 0.9697 - val_loss: 0.1087 - val_accuracy: 0.9719\n",
      "Epoch 6/50\n",
      "685/685 [==============================] - 31s 46ms/step - loss: 0.1017 - accuracy: 0.9716 - val_loss: 0.0931 - val_accuracy: 0.9751\n",
      "Epoch 7/50\n",
      "685/685 [==============================] - 31s 45ms/step - loss: 0.0950 - accuracy: 0.9734 - val_loss: 0.0877 - val_accuracy: 0.9758\n",
      "Epoch 8/50\n",
      "685/685 [==============================] - 28s 42ms/step - loss: 0.0887 - accuracy: 0.9746 - val_loss: 0.0830 - val_accuracy: 0.9770\n",
      "Epoch 9/50\n",
      "685/685 [==============================] - 29s 42ms/step - loss: 0.0830 - accuracy: 0.9753 - val_loss: 0.0785 - val_accuracy: 0.9788\n",
      "Epoch 10/50\n",
      "685/685 [==============================] - 29s 42ms/step - loss: 0.0840 - accuracy: 0.9754 - val_loss: 0.0807 - val_accuracy: 0.9788\n",
      "Epoch 11/50\n",
      "685/685 [==============================] - 29s 42ms/step - loss: 0.0739 - accuracy: 0.9780 - val_loss: 0.0810 - val_accuracy: 0.9783\n",
      "Epoch 12/50\n",
      "685/685 [==============================] - 29s 42ms/step - loss: 0.0719 - accuracy: 0.9784 - val_loss: 0.0800 - val_accuracy: 0.9795\n",
      "Epoch 13/50\n",
      "685/685 [==============================] - 28s 41ms/step - loss: 0.0668 - accuracy: 0.9798 - val_loss: 0.0765 - val_accuracy: 0.9808\n",
      "Epoch 14/50\n",
      "685/685 [==============================] - 29s 42ms/step - loss: 0.0637 - accuracy: 0.9806 - val_loss: 0.0788 - val_accuracy: 0.9801\n",
      "Epoch 15/50\n",
      "685/685 [==============================] - 29s 42ms/step - loss: 0.0631 - accuracy: 0.9807 - val_loss: 0.0769 - val_accuracy: 0.9811\n",
      "Epoch 16/50\n",
      "685/685 [==============================] - 28s 42ms/step - loss: 0.0601 - accuracy: 0.9816 - val_loss: 0.0751 - val_accuracy: 0.9812\n",
      "Epoch 17/50\n",
      "685/685 [==============================] - 28s 41ms/step - loss: 0.0583 - accuracy: 0.9821 - val_loss: 0.0714 - val_accuracy: 0.9828\n",
      "Epoch 18/50\n",
      "685/685 [==============================] - 28s 40ms/step - loss: 0.0577 - accuracy: 0.9823 - val_loss: 0.0751 - val_accuracy: 0.9821\n",
      "Epoch 19/50\n",
      "685/685 [==============================] - 25s 37ms/step - loss: 0.0553 - accuracy: 0.9827 - val_loss: 0.0840 - val_accuracy: 0.9818\n",
      "Epoch 20/50\n",
      "685/685 [==============================] - 24s 36ms/step - loss: 0.0539 - accuracy: 0.9826 - val_loss: 0.0762 - val_accuracy: 0.9823\n",
      "Epoch 21/50\n",
      "685/685 [==============================] - 22s 32ms/step - loss: 0.0515 - accuracy: 0.9835 - val_loss: 0.0801 - val_accuracy: 0.9830\n",
      "Epoch 22/50\n",
      "685/685 [==============================] - 22s 33ms/step - loss: 0.0502 - accuracy: 0.9840 - val_loss: 0.0757 - val_accuracy: 0.9826\n",
      "Epoch 23/50\n",
      "685/685 [==============================] - 22s 33ms/step - loss: 0.0499 - accuracy: 0.9842 - val_loss: 0.0789 - val_accuracy: 0.9821\n",
      "Epoch 24/50\n",
      "685/685 [==============================] - 24s 35ms/step - loss: 0.0571 - accuracy: 0.9819 - val_loss: 0.0772 - val_accuracy: 0.9825\n",
      "Epoch 25/50\n",
      "685/685 [==============================] - 24s 36ms/step - loss: 0.0479 - accuracy: 0.9843 - val_loss: 0.0782 - val_accuracy: 0.9824\n",
      "Epoch 26/50\n",
      "685/685 [==============================] - 24s 36ms/step - loss: 0.0449 - accuracy: 0.9851 - val_loss: 0.0831 - val_accuracy: 0.9827\n",
      "Epoch 27/50\n",
      "685/685 [==============================] - 24s 35ms/step - loss: 0.0453 - accuracy: 0.9848 - val_loss: 0.0983 - val_accuracy: 0.9810\n",
      "Epoch 28/50\n",
      "685/685 [==============================] - 24s 35ms/step - loss: 0.0564 - accuracy: 0.9822 - val_loss: 0.0820 - val_accuracy: 0.9832\n",
      "Epoch 29/50\n",
      "685/685 [==============================] - 24s 35ms/step - loss: 0.0437 - accuracy: 0.9853 - val_loss: 0.0778 - val_accuracy: 0.9832\n",
      "Epoch 30/50\n",
      "685/685 [==============================] - 24s 36ms/step - loss: 0.0424 - accuracy: 0.9858 - val_loss: 0.0803 - val_accuracy: 0.9834\n",
      "Epoch 31/50\n",
      "685/685 [==============================] - 24s 36ms/step - loss: 0.0418 - accuracy: 0.9859 - val_loss: 0.0846 - val_accuracy: 0.9838\n",
      "Epoch 32/50\n",
      "685/685 [==============================] - 26s 38ms/step - loss: 0.0407 - accuracy: 0.9862 - val_loss: 0.0848 - val_accuracy: 0.9834\n",
      "Epoch 33/50\n",
      "685/685 [==============================] - 27s 39ms/step - loss: 0.0400 - accuracy: 0.9864 - val_loss: 0.0843 - val_accuracy: 0.9832\n",
      "Epoch 34/50\n",
      "685/685 [==============================] - 27s 39ms/step - loss: 0.0404 - accuracy: 0.9866 - val_loss: 0.0798 - val_accuracy: 0.9836\n",
      "Epoch 35/50\n",
      "685/685 [==============================] - 27s 39ms/step - loss: 0.0383 - accuracy: 0.9871 - val_loss: 0.0880 - val_accuracy: 0.9841\n",
      "Epoch 36/50\n",
      "685/685 [==============================] - 27s 39ms/step - loss: 0.0371 - accuracy: 0.9872 - val_loss: 0.0910 - val_accuracy: 0.9832\n",
      "Epoch 37/50\n",
      "685/685 [==============================] - 27s 39ms/step - loss: 0.0374 - accuracy: 0.9876 - val_loss: 0.0908 - val_accuracy: 0.9840\n",
      "Epoch 38/50\n",
      "685/685 [==============================] - 26s 39ms/step - loss: 0.0372 - accuracy: 0.9874 - val_loss: 0.0853 - val_accuracy: 0.9840\n",
      "Epoch 39/50\n",
      "685/685 [==============================] - 26s 38ms/step - loss: 0.0368 - accuracy: 0.9876 - val_loss: 0.0931 - val_accuracy: 0.9838\n",
      "Epoch 40/50\n",
      "685/685 [==============================] - 26s 38ms/step - loss: 0.0358 - accuracy: 0.9877 - val_loss: 0.0907 - val_accuracy: 0.9838\n",
      "Epoch 41/50\n",
      "685/685 [==============================] - 26s 39ms/step - loss: 0.0348 - accuracy: 0.9877 - val_loss: 0.0927 - val_accuracy: 0.9844\n",
      "Epoch 42/50\n",
      "685/685 [==============================] - 26s 39ms/step - loss: 0.0363 - accuracy: 0.9872 - val_loss: 0.0908 - val_accuracy: 0.9841\n",
      "Epoch 43/50\n",
      "685/685 [==============================] - 26s 38ms/step - loss: 0.0358 - accuracy: 0.9881 - val_loss: 0.0918 - val_accuracy: 0.9840\n",
      "Epoch 44/50\n",
      "685/685 [==============================] - 25s 36ms/step - loss: 0.0324 - accuracy: 0.9886 - val_loss: 0.1001 - val_accuracy: 0.9836\n",
      "Epoch 45/50\n",
      "685/685 [==============================] - 25s 37ms/step - loss: 0.0339 - accuracy: 0.9881 - val_loss: 0.0875 - val_accuracy: 0.9840\n",
      "Epoch 46/50\n",
      "685/685 [==============================] - 26s 37ms/step - loss: 0.0324 - accuracy: 0.9887 - val_loss: 0.1012 - val_accuracy: 0.9838\n",
      "Epoch 47/50\n",
      "685/685 [==============================] - 26s 37ms/step - loss: 0.0337 - accuracy: 0.9884 - val_loss: 0.1042 - val_accuracy: 0.9836\n",
      "Epoch 48/50\n",
      "685/685 [==============================] - 26s 37ms/step - loss: 0.0303 - accuracy: 0.9885 - val_loss: 0.1015 - val_accuracy: 0.9841\n",
      "Epoch 49/50\n",
      "685/685 [==============================] - 26s 38ms/step - loss: 0.0311 - accuracy: 0.9889 - val_loss: 0.0989 - val_accuracy: 0.9839\n",
      "Epoch 50/50\n",
      "685/685 [==============================] - 26s 38ms/step - loss: 0.0313 - accuracy: 0.9889 - val_loss: 0.1078 - val_accuracy: 0.9839\n",
      "Test loss: 0.1078469455242157\n",
      "Test accuracy: 0.9839203357696533\n",
      "Epoch 1/40\n",
      "2737/2737 [==============================] - 44s 15ms/step - loss: 0.1254 - accuracy: 0.9652 - val_loss: 0.1040 - val_accuracy: 0.9710\n",
      "Epoch 2/40\n",
      "2737/2737 [==============================] - 43s 16ms/step - loss: 0.0711 - accuracy: 0.9792 - val_loss: 0.0748 - val_accuracy: 0.9799\n",
      "Epoch 3/40\n",
      "2737/2737 [==============================] - 42s 15ms/step - loss: 0.0560 - accuracy: 0.9835 - val_loss: 0.0799 - val_accuracy: 0.9799\n",
      "Epoch 4/40\n",
      "2737/2737 [==============================] - 41s 15ms/step - loss: 0.0467 - accuracy: 0.9857 - val_loss: 0.0667 - val_accuracy: 0.9830\n",
      "Epoch 5/40\n",
      "2737/2737 [==============================] - 42s 15ms/step - loss: 0.0381 - accuracy: 0.9882 - val_loss: 0.0854 - val_accuracy: 0.9772\n",
      "Epoch 6/40\n",
      "2737/2737 [==============================] - 41s 15ms/step - loss: 0.0338 - accuracy: 0.9892 - val_loss: 0.0697 - val_accuracy: 0.9826\n",
      "Epoch 7/40\n",
      "2737/2737 [==============================] - 41s 15ms/step - loss: 0.0295 - accuracy: 0.9905 - val_loss: 0.0724 - val_accuracy: 0.9826\n",
      "Epoch 8/40\n",
      "2737/2737 [==============================] - 41s 15ms/step - loss: 0.0258 - accuracy: 0.9913 - val_loss: 0.0776 - val_accuracy: 0.9837\n",
      "Epoch 9/40\n",
      "2737/2737 [==============================] - 41s 15ms/step - loss: 0.0253 - accuracy: 0.9917 - val_loss: 0.0724 - val_accuracy: 0.9841\n",
      "Epoch 10/40\n",
      "2737/2737 [==============================] - 42s 15ms/step - loss: 0.0217 - accuracy: 0.9927 - val_loss: 0.0732 - val_accuracy: 0.9837\n",
      "Epoch 11/40\n",
      "2737/2737 [==============================] - 41s 15ms/step - loss: 0.0201 - accuracy: 0.9928 - val_loss: 0.0822 - val_accuracy: 0.9806\n",
      "Epoch 12/40\n",
      "2737/2737 [==============================] - 42s 15ms/step - loss: 0.0174 - accuracy: 0.9938 - val_loss: 0.0909 - val_accuracy: 0.9815\n"
     ]
    }
   ],
   "source": [
    "import pandas as pd\n",
    "import numpy as np\n",
    "import keras\n",
    "from keras.models import Sequential\n",
    "from keras.layers import Dense, Dropout, Flatten\n",
    "from keras.layers import Conv1D, MaxPooling1D\n",
    "from keras.utils import to_categorical\n",
    "from sklearn.preprocessing import LabelEncoder\n",
    "\n",
    "# Load train and test data from CSV files\n",
    "train_df = pd.read_csv('/Users/feliperivas/Downloads/archive-2/mitbih_train.csv')\n",
    "test_df = pd.read_csv('/Users/feliperivas/Downloads/archive-2/mitbih_test.csv')\n",
    "\n",
    "# Separate features and labels from the data\n",
    "X_train = train_df.iloc[:, :-1].values\n",
    "y_train = train_df.iloc[:, -1].values\n",
    "X_test = test_df.iloc[:, :-1].values\n",
    "y_test = test_df.iloc[:, -1].values\n",
    "\n",
    "# Encode labels as integers\n",
    "le = LabelEncoder()\n",
    "y_train = le.fit_transform(y_train)\n",
    "y_test = le.transform(y_test)\n",
    "\n",
    "# One-hot encode the label data\n",
    "y_train = to_categorical(y_train)\n",
    "y_test = to_categorical(y_test)\n",
    "\n",
    "# Reshape the data to fit into a 1D CNN model\n",
    "X_train = np.expand_dims(X_train, axis=2)\n",
    "X_test = np.expand_dims(X_test, axis=2)\n",
    "\n",
    "# Define the CNN model architecture\n",
    "model = Sequential()\n",
    "model.add(Conv1D(32, 5, activation='relu', input_shape=(X_train.shape[1], X_train.shape[2])))\n",
    "model.add(Conv1D(64, 5, activation='relu'))\n",
    "model.add(MaxPooling1D(2))\n",
    "model.add(Dropout(0.25))\n",
    "model.add(Flatten())\n",
    "model.add(Dense(128, activation='relu'))\n",
    "model.add(Dropout(0.5))\n",
    "model.add(Dense(5, activation='softmax'))\n",
    "\n",
    "# Compile the model\n",
    "model.compile(loss='categorical_crossentropy', optimizer='adam', metrics=['accuracy'])\n",
    "\n",
    "# Train the model\n",
    "model.fit(X_train, y_train, batch_size=128, epochs=50, validation_data=(X_test, y_test))\n",
    "\n",
    "# Evaluate the model on the test set\n",
    "score = model.evaluate(X_test, y_test, verbose=0)\n",
    "print('Test loss:', score[0])\n",
    "print('Test accuracy:', score[1])\n",
    "\n",
    "model,history=network(X_train,y_train,X_test,y_test)\n"
   ]
  },
  {
   "cell_type": "code",
   "execution_count": 4,
   "metadata": {},
   "outputs": [],
   "source": [
    "import pandas as pd\n",
    "import numpy as np\n",
    "import keras\n",
    "from keras.models import Sequential\n",
    "from keras.layers import Dense, Dropout, Flatten\n",
    "from keras.layers import Conv1D, MaxPooling1D\n",
    "from sklearn.preprocessing import LabelEncoder\n",
    "\n",
    "# Load train and test data from CSV files\n",
    "train_df = pd.read_csv('/Users/feliperivas/Downloads/archive-2/mitbih_train.csv')\n",
    "test_df = pd.read_csv('/Users/feliperivas/Downloads/archive-2/mitbih_test.csv')\n",
    "\n",
    "# Separate features and labels from the data\n",
    "X_train = train_df.iloc[:, :-1].values\n",
    "y_train = train_df.iloc[:, -1].values\n",
    "X_test = test_df.iloc[:, :-1].values\n",
    "y_test = test_df.iloc[:, -1].values\n",
    "\n",
    "# Encode labels as integers\n",
    "le = LabelEncoder()\n",
    "y_train = le.fit_transform(y_train)\n",
    "y_test = le.transform(y_test)\n",
    "\n",
    "# Reshape the data to fit into a 1D CNN model\n",
    "X_train = np.expand_dims(X_train, axis=2)\n",
    "X_test = np.expand_dims(X_test, axis=2)\n",
    "\n",
    "# Define the CNN model architecture\n",
    "model = Sequential()\n",
    "model.add(Conv1D(32, 5, activation='relu', input_shape=(X_train.shape[1], X_train.shape[2])))\n",
    "model.add(Conv1D(64, 5, activation='relu'))\n",
    "model.add(MaxPooling1D(2))\n",
    "model.add(Dropout(0.25))\n",
    "model.add(Flatten())\n",
    "model.add(Dense(128, activation='relu'))\n",
    "model.add(Dropout(0.5))\n",
    "model.add(Dense(5, activation='softmax'))\n",
    "\n",
    "# Compile the model\n",
    "model.compile(loss='sparse_categorical_crossentropy', optimizer='adam', metrics=['accuracy'])\n",
    "\n",
    "# Train the model\n",
    "model.fit(X_train, y_train, batch_size=128, epochs=50, validation_data=(X_test, y_test))\n",
    "\n",
    "# Evaluate the model on the test set\n",
    "score = model.evaluate(X_test, y_test, verbose=0)\n",
    "print('Test loss:', score[0])\n",
    "print('Test accuracy:', score[1])\n",
    "\n",
    "model,history=network(X_train,y_train,X_test,y_test)\n"
   ]
  },
  {
   "cell_type": "code",
   "execution_count": 5,
   "metadata": {},
   "outputs": [],
   "source": [
    "def evaluate_model(history,X_test,y_test,model):\n",
    "    scores = model.evaluate((X_test),y_test, verbose=0)\n",
    "    print(\"Accuracy: %.2f%%\" % (scores[1]*100))\n",
    "    \n",
    "    print(history)\n",
    "    fig1, ax_acc = plt.subplots()\n",
    "    plt.plot(history.history['accuracy'])\n",
    "    plt.plot(history.history['val_accuracy'])\n",
    "    plt.xlabel('Epoch')\n",
    "    plt.ylabel('Accuracy')\n",
    "    plt.title('Model - Accuracy')\n",
    "    plt.legend(['Training', 'Validation'], loc='lower right')\n",
    "    plt.show()\n",
    "    \n",
    "    fig2, ax_loss = plt.subplots()\n",
    "    plt.xlabel('Epoch')\n",
    "    plt.ylabel('Loss')\n",
    "    plt.title('Model- Loss')\n",
    "    plt.legend(['Training', 'Validation'], loc='upper right')\n",
    "    plt.plot(history.history['loss'])\n",
    "    plt.plot(history.history['val_loss'])\n",
    "    plt.show()\n",
    "    target_names=['0','1','2','3','4']\n",
    "    \n",
    "    y_true=[]\n",
    "    for element in y_test:\n",
    "        y_true.append(np.argmax(element))\n",
    "    prediction_proba=model.predict(X_test)\n",
    "    prediction=np.argmax(prediction_proba,axis=1)\n",
    "    cnf_matrix = confusion_matrix(y_true, prediction)"
   ]
  },
  {
   "cell_type": "code",
   "execution_count": 6,
   "metadata": {},
   "outputs": [],
   "source": [
    "# model,history=network(X_train,y_train,X_test,y_test)"
   ]
  },
  {
   "cell_type": "code",
   "execution_count": 7,
   "metadata": {},
   "outputs": [
    {
     "name": "stdout",
     "output_type": "stream",
     "text": [
      "Accuracy: 98.30%\n",
      "<keras.callbacks.History object at 0x7ff34e6361c0>\n"
     ]
    },
    {
     "data": {
      "image/png": "[encoded data removed]",
      "text/plain": [
       "<Figure size 640x480 with 1 Axes>"
      ]
     },
     "metadata": {},
     "output_type": "display_data"
    },
    {
     "data": {
      "image/png": "[encoded data removed]",
      "text/plain": [
       "<Figure size 640x480 with 1 Axes>"
      ]
     },
     "metadata": {},
     "output_type": "display_data"
    },
    {
     "name": "stdout",
     "output_type": "stream",
     "text": [
      "685/685 [==============================] - 2s 3ms/step\n",
      "685/685 [==============================] - 2s 3ms/step\n"
     ]
    }
   ],
   "source": [
    "evaluate_model(history,X_test,y_test,model)\n",
    "y_pred=model.predict(X_test)"
   ]
  },
  {
   "cell_type": "code",
   "execution_count": 8,
   "metadata": {},
   "outputs": [],
   "source": [
    "model.save('my_modelCNN.h5')"
   ]
  },
  {
   "cell_type": "code",
   "execution_count": 9,
   "metadata": {},
   "outputs": [
    {
     "name": "stderr",
     "output_type": "stream",
     "text": [
      "WARNING:absl:Found untraced functions such as _jit_compiled_convolution_op, _jit_compiled_convolution_op, _jit_compiled_convolution_op, _update_step_xla while saving (showing 4 of 4). These functions will not be directly callable after loading.\n"
     ]
    },
    {
     "name": "stdout",
     "output_type": "stream",
     "text": [
      "INFO:tensorflow:Assets written to: /var/folders/1c/h938_tcs77n4rzyrc275t7b00000gn/T/tmp_090ujmg/assets\n"
     ]
    },
    {
     "name": "stderr",
     "output_type": "stream",
     "text": [
      "INFO:tensorflow:Assets written to: /var/folders/1c/h938_tcs77n4rzyrc275t7b00000gn/T/tmp_090ujmg/assets\n",
      "2023-03-24 12:33:51.368235: W tensorflow/compiler/mlir/lite/python/tf_tfl_flatbuffer_helpers.cc:362] Ignored output_format.\n",
      "2023-03-24 12:33:51.368251: W tensorflow/compiler/mlir/lite/python/tf_tfl_flatbuffer_helpers.cc:365] Ignored drop_control_dependency.\n",
      "2023-03-24 12:33:51.368862: I tensorflow/cc/saved_model/reader.cc:45] Reading SavedModel from: /var/folders/1c/h938_tcs77n4rzyrc275t7b00000gn/T/tmp_090ujmg\n",
      "2023-03-24 12:33:51.372908: I tensorflow/cc/saved_model/reader.cc:89] Reading meta graph with tags { serve }\n",
      "2023-03-24 12:33:51.372920: I tensorflow/cc/saved_model/reader.cc:130] Reading SavedModel debug info (if present) from: /var/folders/1c/h938_tcs77n4rzyrc275t7b00000gn/T/tmp_090ujmg\n",
      "2023-03-24 12:33:51.386209: I tensorflow/compiler/mlir/mlir_graph_optimization_pass.cc:357] MLIR V1 optimization pass is not enabled\n",
      "2023-03-24 12:33:51.389490: I tensorflow/cc/saved_model/loader.cc:229] Restoring SavedModel bundle.\n",
      "2023-03-24 12:33:51.491448: I tensorflow/cc/saved_model/loader.cc:213] Running initialization op on SavedModel bundle at path: /var/folders/1c/h938_tcs77n4rzyrc275t7b00000gn/T/tmp_090ujmg\n",
      "2023-03-24 12:33:51.517784: I tensorflow/cc/saved_model/loader.cc:305] SavedModel load for tags { serve }; Status: success: OK. Took 148924 microseconds.\n",
      "2023-03-24 12:33:51.579658: I tensorflow/compiler/mlir/tensorflow/utils/dump_mlir_util.cc:268] disabling MLIR crash reproducer, set env var `MLIR_CRASH_REPRODUCER_DIRECTORY` to enable.\n"
     ]
    }
   ],
   "source": [
    "import tensorflow as tf\n",
    "\n",
    "# Load the Keras model\n",
    "model = tf.keras.models.load_model('my_modelCNN.h5')\n",
    "\n",
    "# Convert the model to TFLite format\n",
    "converter = tf.lite.TFLiteConverter.from_keras_model(model)\n",
    "tflite_model = converter.convert()\n",
    "\n",
    "# Save the TFLite model to a file\n",
    "with open('my_modelCNN.tflite', 'wb') as f:\n",
    "    f.write(tflite_model)\n"
   ]
  },
  {
   "cell_type": "code",
   "execution_count": null,
   "metadata": {},
   "outputs": [],
   "source": []
  },
  {
   "cell_type": "code",
   "execution_count": null,
   "metadata": {},
   "outputs": [],
   "source": [
    "model.save('my_modelDT.h5')"
   ]
  }
 ],
 "metadata": {
  "kernelspec": {
   "display_name": "Python 3 (ipykernel)",
   "language": "python",
   "name": "python3"
  },
  "language_info": {
   "codemirror_mode": {
    "name": "ipython",
    "version": 3
   },
   "file_extension": ".py",
   "mimetype": "text/x-python",
   "name": "python",
   "nbconvert_exporter": "python",
   "pygments_lexer": "ipython3",
   "version": "3.8.8"
  },
  "vscode": {
   "interpreter": {
    "hash": "7a3697a163434f97095f1a58999a31b6cfc3306ea792e58c48b159c38addb642"
   }
  }
 },
 "nbformat": 4,
 "nbformat_minor": 2
}
